{
 "cells": [
  {
   "cell_type": "code",
   "execution_count": 1,
   "metadata": {},
   "outputs": [],
   "source": [
    "import pandas as pd\n",
    "import os\n",
    "import json\n",
    "from collections import Counter\n",
    "import re\n",
    "import numpy as np"
   ]
  },
  {
   "attachments": {},
   "cell_type": "markdown",
   "metadata": {},
   "source": [
    "## Joining Final Annotations and Unmatched Annotations "
   ]
  },
  {
   "cell_type": "code",
   "execution_count": 2,
   "metadata": {},
   "outputs": [],
   "source": [
    "PATH_DATA = '../data/'\n",
    "PATH_DF = '../data/dataframes/'\n",
    "PATH_FINAL = '../data/final/'"
   ]
  },
  {
   "cell_type": "code",
   "execution_count": 3,
   "metadata": {},
   "outputs": [],
   "source": [
    "annotations = {}\n",
    "\n",
    "for file in os.listdir(PATH_DF):\n",
    "    if file.startswith('annotation') and file.endswith('.tsv'):\n",
    "        annotator = file.split('_')[-1].split('.')[0]\n",
    "        annotations[annotator] = pd.read_csv(PATH_DF + file, sep='\\t')\n",
    "\n",
    "all_annotations_df = pd.concat(annotations, ignore_index=True)\n",
    "all_annotations_df = all_annotations_df.drop_duplicates(ignore_index=True)"
   ]
  },
  {
   "cell_type": "code",
   "execution_count": 4,
   "metadata": {},
   "outputs": [],
   "source": [
    "final_annotations_df = pd.DataFrame()\n",
    "interannotated_courses = set()\n",
    "\n",
    "for file in os.listdir(PATH_FINAL):\n",
    "    if file.endswith('.tsv'):\n",
    "        fn = PATH_FINAL + '/' + file\n",
    "        with open(fn, 'r') as f:\n",
    "            size = len(f.readlines())\n",
    "            if size > 0:\n",
    "                incoming_df = pd.read_csv(fn, delimiter='\\t')\n",
    "                incoming_df = incoming_df.fillna(\"\")\n",
    "                \n",
    "                course_number = file.split(\".\")[0]\n",
    "                incoming_df[\"course\"] = int(course_number)\n",
    "                interannotated_courses.add(int(course_number))\n",
    "\n",
    "                final_annotations_df = pd.concat([final_annotations_df, incoming_df], ignore_index=True)\n",
    "\n",
    "final_annotations_df = final_annotations_df.drop_duplicates(ignore_index=True)\n",
    "final_annotations_df = final_annotations_df.drop(columns=['_merge'])"
   ]
  },
  {
   "cell_type": "code",
   "execution_count": 5,
   "metadata": {},
   "outputs": [],
   "source": [
    "matched_courses = final_annotations_df.course.unique()"
   ]
  },
  {
   "cell_type": "code",
   "execution_count": 6,
   "metadata": {},
   "outputs": [],
   "source": [
    "unmatched_annotations_df = all_annotations_df[~all_annotations_df.course.isin(interannotated_courses)].reset_index(drop=True)\n"
   ]
  },
  {
   "cell_type": "code",
   "execution_count": 7,
   "metadata": {},
   "outputs": [],
   "source": [
    "unmatched_courses = unmatched_annotations_df.course.unique()"
   ]
  },
  {
   "cell_type": "code",
   "execution_count": 8,
   "metadata": {},
   "outputs": [],
   "source": [
    "product_df = pd.concat([final_annotations_df, unmatched_annotations_df], ignore_index=True)\n",
    "product_df = product_df.fillna(\"\")\n",
    "product_df = product_df.drop(columns='collection')\n",
    "product_df = product_df.drop_duplicates().reset_index(drop=True)"
   ]
  },
  {
   "cell_type": "code",
   "execution_count": 9,
   "metadata": {},
   "outputs": [
    {
     "data": {
      "text/plain": [
       "Counter({3: 6, 2: 82, 1: 8152})"
      ]
     },
     "execution_count": 9,
     "metadata": {},
     "output_type": "execute_result"
    }
   ],
   "source": [
    "Counter(list(product_df.drop(columns='course').value_counts()))"
   ]
  },
  {
   "cell_type": "code",
   "execution_count": 10,
   "metadata": {},
   "outputs": [],
   "source": [
    "product_df.to_csv('database.tsv', sep='\\t', index=False)"
   ]
  },
  {
   "cell_type": "code",
   "execution_count": 717,
   "metadata": {},
   "outputs": [],
   "source": [
    "# Should maintain index from here "
   ]
  },
  {
   "attachments": {},
   "cell_type": "markdown",
   "metadata": {},
   "source": [
    "## Data Cleaning/Processing"
   ]
  },
  {
   "cell_type": "code",
   "execution_count": 11,
   "metadata": {},
   "outputs": [],
   "source": [
    "def simplify_type(t):\n",
    "    if t == 'article-journal':\n",
    "        return \"Academic Paper\"\n",
    "    elif t in ['book', 'chapter']:\n",
    "        return \"Book\"\n",
    "    else:\n",
    "        return \"Other\""
   ]
  },
  {
   "cell_type": "code",
   "execution_count": 12,
   "metadata": {},
   "outputs": [],
   "source": [
    "product_df['type'] = product_df.type.apply(simplify_type)"
   ]
  },
  {
   "cell_type": "code",
   "execution_count": 13,
   "metadata": {},
   "outputs": [],
   "source": [
    "product_df['year'] = product_df.year.apply(lambda x: str(x).split('-')[0][:4])"
   ]
  },
  {
   "cell_type": "code",
   "execution_count": 14,
   "metadata": {},
   "outputs": [],
   "source": [
    "def parse_author_name(s):\n",
    "    if type(s)==float:\n",
    "        return \"\" \n",
    "    last_name = re.match('.*:family=>\"([a-zA-Z]*)\"', s)\n",
    "    if last_name:\n",
    "        last_name = last_name.group(1)\n",
    "    else:\n",
    "        return \"\"\n",
    "\n",
    "    first_initial = re.match('.*:given=>\"([a-zA-Z\\.\\s]*)\"', s)\n",
    "    if first_initial:\n",
    "        first_initial = first_initial.group(1)[0]\n",
    "        return last_name + \", \" + first_initial + \".\"\n",
    "    else:\n",
    "        return last_name\n",
    "\n",
    "\n",
    "def convert_str_to_list_author(s, return_format):\n",
    "    \"\"\"Converts string representation of list into list\"\"\"\n",
    "    authors = re.findall('\\{[^\\{]*\\}', s.strip('[]'))\n",
    "    parsed_authors = [parse_author_name(a) for a in authors if parse_author_name(a)!='']\n",
    "    if return_format:\n",
    "       return '; '.join(parsed_authors)\n",
    "    return parsed_authors"
   ]
  },
  {
   "cell_type": "code",
   "execution_count": 15,
   "metadata": {},
   "outputs": [
    {
     "data": {
      "text/html": [
       "<div>\n",
       "<style scoped>\n",
       "    .dataframe tbody tr th:only-of-type {\n",
       "        vertical-align: middle;\n",
       "    }\n",
       "\n",
       "    .dataframe tbody tr th {\n",
       "        vertical-align: top;\n",
       "    }\n",
       "\n",
       "    .dataframe thead th {\n",
       "        text-align: right;\n",
       "    }\n",
       "</style>\n",
       "<table border=\"1\" class=\"dataframe\">\n",
       "  <thead>\n",
       "    <tr style=\"text-align: right;\">\n",
       "      <th></th>\n",
       "      <th>author</th>\n",
       "      <th>title</th>\n",
       "      <th>type</th>\n",
       "      <th>year</th>\n",
       "      <th>category</th>\n",
       "      <th>course</th>\n",
       "      <th>author_individual</th>\n",
       "    </tr>\n",
       "  </thead>\n",
       "  <tbody>\n",
       "    <tr>\n",
       "      <th>0</th>\n",
       "      <td>Ott, E.; Sauer, T.; Yorke, J.</td>\n",
       "      <td>Coping with Chaos</td>\n",
       "      <td>Other</td>\n",
       "      <td>1994</td>\n",
       "      <td>Optional</td>\n",
       "      <td>1022</td>\n",
       "      <td>[Ott, E., Sauer, T., Yorke, J.]</td>\n",
       "    </tr>\n",
       "    <tr>\n",
       "      <th>1</th>\n",
       "      <td>Wilks, D.</td>\n",
       "      <td>Statistical Methods in the Atmospheric Sciences</td>\n",
       "      <td>Other</td>\n",
       "      <td>1995</td>\n",
       "      <td>Optional</td>\n",
       "      <td>1022</td>\n",
       "      <td>[Wilks, D.]</td>\n",
       "    </tr>\n",
       "    <tr>\n",
       "      <th>2</th>\n",
       "      <td>Wunsch, C.</td>\n",
       "      <td>The Ocean Circulation Inverse Problem</td>\n",
       "      <td>Other</td>\n",
       "      <td>1996</td>\n",
       "      <td>Optional</td>\n",
       "      <td>1022</td>\n",
       "      <td>[Wunsch, C.]</td>\n",
       "    </tr>\n",
       "    <tr>\n",
       "      <th>3</th>\n",
       "      <td>Kalnay, E.</td>\n",
       "      <td>Atmospheric Modeling</td>\n",
       "      <td>Other</td>\n",
       "      <td>2003</td>\n",
       "      <td>Optional</td>\n",
       "      <td>1022</td>\n",
       "      <td>[Kalnay, E.]</td>\n",
       "    </tr>\n",
       "    <tr>\n",
       "      <th>4</th>\n",
       "      <td>Grassberger, P.; Procaccia, I.</td>\n",
       "      <td>Characterization of Strange Attractors</td>\n",
       "      <td>Academic Paper</td>\n",
       "      <td>1983</td>\n",
       "      <td>Required</td>\n",
       "      <td>1022</td>\n",
       "      <td>[Grassberger, P., Procaccia, I.]</td>\n",
       "    </tr>\n",
       "    <tr>\n",
       "      <th>...</th>\n",
       "      <td>...</td>\n",
       "      <td>...</td>\n",
       "      <td>...</td>\n",
       "      <td>...</td>\n",
       "      <td>...</td>\n",
       "      <td>...</td>\n",
       "      <td>...</td>\n",
       "    </tr>\n",
       "    <tr>\n",
       "      <th>8329</th>\n",
       "      <td>Gesteland, R.</td>\n",
       "      <td>Cross-Cultural Business Behavior: Marketing</td>\n",
       "      <td>Other</td>\n",
       "      <td>1999</td>\n",
       "      <td>Required</td>\n",
       "      <td>1248</td>\n",
       "      <td>[Gesteland, R.]</td>\n",
       "    </tr>\n",
       "    <tr>\n",
       "      <th>8330</th>\n",
       "      <td>Kouzes, J.; Posner, B.</td>\n",
       "      <td>The Leadership Challenge</td>\n",
       "      <td>Other</td>\n",
       "      <td>2002</td>\n",
       "      <td>Required</td>\n",
       "      <td>1248</td>\n",
       "      <td>[Kouzes, J., Posner, B.]</td>\n",
       "    </tr>\n",
       "    <tr>\n",
       "      <th>8331</th>\n",
       "      <td>Goleman, D.</td>\n",
       "      <td>Leadership that Gets Results</td>\n",
       "      <td>Academic Paper</td>\n",
       "      <td>2000</td>\n",
       "      <td>Required</td>\n",
       "      <td>1248</td>\n",
       "      <td>[Goleman, D.]</td>\n",
       "    </tr>\n",
       "    <tr>\n",
       "      <th>8332</th>\n",
       "      <td>Derr, C.; Roussillon, S.; Bournois, F.</td>\n",
       "      <td>Cross-Cultural Approaches to Leadership Develo...</td>\n",
       "      <td>Other</td>\n",
       "      <td>2002</td>\n",
       "      <td>Required</td>\n",
       "      <td>1248</td>\n",
       "      <td>[Derr, C., Roussillon, S., Bournois, F.]</td>\n",
       "    </tr>\n",
       "    <tr>\n",
       "      <th>8333</th>\n",
       "      <td>Graham, J.; Lam, N.</td>\n",
       "      <td>The Chinese Negotiation</td>\n",
       "      <td>Academic Paper</td>\n",
       "      <td>2003</td>\n",
       "      <td>Required</td>\n",
       "      <td>1248</td>\n",
       "      <td>[Graham, J., Lam, N.]</td>\n",
       "    </tr>\n",
       "  </tbody>\n",
       "</table>\n",
       "<p>8334 rows × 7 columns</p>\n",
       "</div>"
      ],
      "text/plain": [
       "                                      author  \\\n",
       "0              Ott, E.; Sauer, T.; Yorke, J.   \n",
       "1                                  Wilks, D.   \n",
       "2                                 Wunsch, C.   \n",
       "3                                 Kalnay, E.   \n",
       "4             Grassberger, P.; Procaccia, I.   \n",
       "...                                      ...   \n",
       "8329                           Gesteland, R.   \n",
       "8330                  Kouzes, J.; Posner, B.   \n",
       "8331                             Goleman, D.   \n",
       "8332  Derr, C.; Roussillon, S.; Bournois, F.   \n",
       "8333                     Graham, J.; Lam, N.   \n",
       "\n",
       "                                                  title            type  year  \\\n",
       "0                                     Coping with Chaos           Other  1994   \n",
       "1       Statistical Methods in the Atmospheric Sciences           Other  1995   \n",
       "2                 The Ocean Circulation Inverse Problem           Other  1996   \n",
       "3                                  Atmospheric Modeling           Other  2003   \n",
       "4                Characterization of Strange Attractors  Academic Paper  1983   \n",
       "...                                                 ...             ...   ...   \n",
       "8329        Cross-Cultural Business Behavior: Marketing           Other  1999   \n",
       "8330                           The Leadership Challenge           Other  2002   \n",
       "8331                       Leadership that Gets Results  Academic Paper  2000   \n",
       "8332  Cross-Cultural Approaches to Leadership Develo...           Other  2002   \n",
       "8333                            The Chinese Negotiation  Academic Paper  2003   \n",
       "\n",
       "      category  course                         author_individual  \n",
       "0     Optional    1022           [Ott, E., Sauer, T., Yorke, J.]  \n",
       "1     Optional    1022                               [Wilks, D.]  \n",
       "2     Optional    1022                              [Wunsch, C.]  \n",
       "3     Optional    1022                              [Kalnay, E.]  \n",
       "4     Required    1022          [Grassberger, P., Procaccia, I.]  \n",
       "...        ...     ...                                       ...  \n",
       "8329  Required    1248                           [Gesteland, R.]  \n",
       "8330  Required    1248                  [Kouzes, J., Posner, B.]  \n",
       "8331  Required    1248                             [Goleman, D.]  \n",
       "8332  Required    1248  [Derr, C., Roussillon, S., Bournois, F.]  \n",
       "8333  Required    1248                     [Graham, J., Lam, N.]  \n",
       "\n",
       "[8334 rows x 7 columns]"
      ]
     },
     "execution_count": 15,
     "metadata": {},
     "output_type": "execute_result"
    }
   ],
   "source": [
    "product_df['author_individual'] = product_df.author.apply(convert_str_to_list_author, return_format='')\n",
    "product_df['author'] = product_df.author.apply(convert_str_to_list_author, return_format='joined')\n",
    "product_df.explode('author')"
   ]
  },
  {
   "cell_type": "code",
   "execution_count": 16,
   "metadata": {},
   "outputs": [],
   "source": [
    "# Load index-link mappings\n",
    "with open(PATH_DATA + 'all_topics.json', encoding='utf-8') as f:\n",
    "    topics = json.load(f)\n",
    "\n",
    "annotated_topics = {course: topics for course, topics in topics.items() if int(course) in product_df.course.values}"
   ]
  },
  {
   "cell_type": "code",
   "execution_count": 17,
   "metadata": {},
   "outputs": [],
   "source": [
    "topic_counter = Counter([t for topics in annotated_topics.values() for t in topics])"
   ]
  },
  {
   "cell_type": "code",
   "execution_count": 18,
   "metadata": {},
   "outputs": [],
   "source": [
    "product_df['topics'] = product_df['course'].apply(lambda x: annotated_topics[str(x)])\n",
    "product_df = product_df.explode('topics')"
   ]
  },
  {
   "cell_type": "code",
   "execution_count": 19,
   "metadata": {},
   "outputs": [
    {
     "data": {
      "text/html": [
       "<div>\n",
       "<style scoped>\n",
       "    .dataframe tbody tr th:only-of-type {\n",
       "        vertical-align: middle;\n",
       "    }\n",
       "\n",
       "    .dataframe tbody tr th {\n",
       "        vertical-align: top;\n",
       "    }\n",
       "\n",
       "    .dataframe thead th {\n",
       "        text-align: right;\n",
       "    }\n",
       "</style>\n",
       "<table border=\"1\" class=\"dataframe\">\n",
       "  <thead>\n",
       "    <tr style=\"text-align: right;\">\n",
       "      <th></th>\n",
       "      <th>author</th>\n",
       "      <th>title</th>\n",
       "      <th>type</th>\n",
       "      <th>year</th>\n",
       "      <th>course</th>\n",
       "      <th>author_individual</th>\n",
       "      <th>topics</th>\n",
       "    </tr>\n",
       "    <tr>\n",
       "      <th>category</th>\n",
       "      <th></th>\n",
       "      <th></th>\n",
       "      <th></th>\n",
       "      <th></th>\n",
       "      <th></th>\n",
       "      <th></th>\n",
       "      <th></th>\n",
       "    </tr>\n",
       "  </thead>\n",
       "  <tbody>\n",
       "    <tr>\n",
       "      <th>Optional</th>\n",
       "      <td>6.822222</td>\n",
       "      <td>6.822222</td>\n",
       "      <td>6.822222</td>\n",
       "      <td>6.822222</td>\n",
       "      <td>6.822222</td>\n",
       "      <td>6.822222</td>\n",
       "      <td>6.822222</td>\n",
       "    </tr>\n",
       "    <tr>\n",
       "      <th>Required</th>\n",
       "      <td>6.688889</td>\n",
       "      <td>6.688889</td>\n",
       "      <td>6.688889</td>\n",
       "      <td>6.688889</td>\n",
       "      <td>6.688889</td>\n",
       "      <td>6.688889</td>\n",
       "      <td>6.688889</td>\n",
       "    </tr>\n",
       "  </tbody>\n",
       "</table>\n",
       "</div>"
      ],
      "text/plain": [
       "            author     title      type      year    course  author_individual  \\\n",
       "category                                                                        \n",
       "Optional  6.822222  6.822222  6.822222  6.822222  6.822222           6.822222   \n",
       "Required  6.688889  6.688889  6.688889  6.688889  6.688889           6.688889   \n",
       "\n",
       "            topics  \n",
       "category            \n",
       "Optional  6.822222  \n",
       "Required  6.688889  "
      ]
     },
     "execution_count": 19,
     "metadata": {},
     "output_type": "execute_result"
    }
   ],
   "source": [
    "product_df[product_df.topics=='Mathematics'].groupby('category').count()/topic_counter['Mathematics']"
   ]
  },
  {
   "cell_type": "code",
   "execution_count": 20,
   "metadata": {},
   "outputs": [],
   "source": [
    "# Load index-link mappings\n",
    "f = open(PATH_DATA + 'index_to_link.json', encoding='utf-8') \n",
    "index_to_link = json.load(f)\n",
    "f.close()"
   ]
  },
  {
   "cell_type": "code",
   "execution_count": 21,
   "metadata": {},
   "outputs": [],
   "source": [
    "product_df = product_df[product_df.author!=\"\"]\n",
    "product_df = product_df[product_df.title!=\"\"]"
   ]
  },
  {
   "cell_type": "code",
   "execution_count": 23,
   "metadata": {},
   "outputs": [],
   "source": [
    "product_df.to_csv('database.tsv', sep='\\t', index=False)"
   ]
  },
  {
   "cell_type": "code",
   "execution_count": 742,
   "metadata": {},
   "outputs": [],
   "source": [
    "def search_readings(TOPIC='Mathematics', FORMAT='All', INCLUDE='All'):\n",
    "    # Topic selection (Mandatory)\n",
    "    selection = product_df[product_df.topics==TOPIC].copy()\n",
    "\n",
    "    # Format selection (if specified)\n",
    "    if FORMAT in ['Book', 'Academic Paper']:\n",
    "        selection = selection[selection.type == FORMAT]\n",
    "\n",
    "    # Include categories (if specified)\n",
    "    if INCLUDE == 'Required Only':\n",
    "        selection = selection[selection.category == 'Required']\n",
    "    elif INCLUDE == 'Optional Only':\n",
    "        selection = selection[selection.category == 'Optional']\n",
    "\n",
    "    num_courses = len(selection.course.unique())\n",
    "    num_readings = selection.shape[0]\n",
    "\n",
    "    title_df = selection.copy()\n",
    "    title_df = title_df.sort_values('title') \n",
    "    title_df['Link to Course'] = title_df.course.apply(lambda x: index_to_link[str(x)])\n",
    "    title_df = title_df.drop(columns=['type', 'author_individual', 'course', 'topics'])\n",
    "    title_df = pd.DataFrame(title_df.value_counts()).reset_index()\n",
    "    title_df = title_df.drop(columns=['category', 0])\n",
    "\n",
    "    author_df = selection.copy()\n",
    "    author_df = author_df.drop(columns=['author', 'topics'])\n",
    "    author_df = author_df.explode('author_individual')\n",
    "\n",
    "    author_df = pd.DataFrame(author_df.author_individual.value_counts()).reset_index().rename(columns={'index': 'Author', 'author_individual': '# of Readings'})\n",
    "\n",
    "    return (num_readings, num_courses), title_df, author_df, selection\n"
   ]
  },
  {
   "cell_type": "code",
   "execution_count": 743,
   "metadata": {},
   "outputs": [
    {
     "data": {
      "text/html": [
       "<div>\n",
       "<style scoped>\n",
       "    .dataframe tbody tr th:only-of-type {\n",
       "        vertical-align: middle;\n",
       "    }\n",
       "\n",
       "    .dataframe tbody tr th {\n",
       "        vertical-align: top;\n",
       "    }\n",
       "\n",
       "    .dataframe thead th {\n",
       "        text-align: right;\n",
       "    }\n",
       "</style>\n",
       "<table border=\"1\" class=\"dataframe\">\n",
       "  <thead>\n",
       "    <tr style=\"text-align: right;\">\n",
       "      <th></th>\n",
       "      <th>author</th>\n",
       "      <th>title</th>\n",
       "      <th>year</th>\n",
       "      <th>Link to Course</th>\n",
       "    </tr>\n",
       "  </thead>\n",
       "  <tbody>\n",
       "    <tr>\n",
       "      <th>0</th>\n",
       "      <td>Aanestad, M.</td>\n",
       "      <td>Strategies for Development and Integration of ...</td>\n",
       "      <td>2005</td>\n",
       "      <td>https://ocw.mit.edu/courses/21g-034-media-educ...</td>\n",
       "    </tr>\n",
       "    <tr>\n",
       "      <th>1</th>\n",
       "      <td>Adeyemi, A.</td>\n",
       "      <td>A Study on the Use of Information Systems to P...</td>\n",
       "      <td>Marc</td>\n",
       "      <td>https://ocw.mit.edu/courses/21g-034-media-educ...</td>\n",
       "    </tr>\n",
       "    <tr>\n",
       "      <th>2</th>\n",
       "      <td>Annamalai, K.; Rao, S.</td>\n",
       "      <td>What Works: ITC’s e-Choupal and Profitable Rur...</td>\n",
       "      <td>2003</td>\n",
       "      <td>https://ocw.mit.edu/courses/21g-034-media-educ...</td>\n",
       "    </tr>\n",
       "    <tr>\n",
       "      <th>3</th>\n",
       "      <td>Casas, C.; LaJoie, W.</td>\n",
       "      <td>Voxiva. Case Study</td>\n",
       "      <td>2003</td>\n",
       "      <td>https://ocw.mit.edu/courses/21g-034-media-educ...</td>\n",
       "    </tr>\n",
       "    <tr>\n",
       "      <th>4</th>\n",
       "      <td>Compaine, B.; Weinramb, M.</td>\n",
       "      <td>Universal Access to Online Services: An Examin...</td>\n",
       "      <td>2001</td>\n",
       "      <td>https://ocw.mit.edu/courses/21g-034-media-educ...</td>\n",
       "    </tr>\n",
       "    <tr>\n",
       "      <th>5</th>\n",
       "      <td>Larson, R.; Murray, M.</td>\n",
       "      <td>Distance Learning as a Tool for Poverty Reduct...</td>\n",
       "      <td>2005</td>\n",
       "      <td>https://ocw.mit.edu/courses/21g-034-media-educ...</td>\n",
       "    </tr>\n",
       "    <tr>\n",
       "      <th>6</th>\n",
       "      <td>Phipps, K.; Sangudi, G.; Woolway, S.</td>\n",
       "      <td>What Works: Healthnet Uganda’s Evolution from ...</td>\n",
       "      <td>2003</td>\n",
       "      <td>https://ocw.mit.edu/courses/21g-034-media-educ...</td>\n",
       "    </tr>\n",
       "    <tr>\n",
       "      <th>7</th>\n",
       "      <td>Prahalad, C.</td>\n",
       "      <td>The Fortune at the Bottom of the Pyramid: Erad...</td>\n",
       "      <td>2004</td>\n",
       "      <td>https://ocw.mit.edu/courses/21g-034-media-educ...</td>\n",
       "    </tr>\n",
       "    <tr>\n",
       "      <th>8</th>\n",
       "      <td>Telecommunications, N.; Administration, I.</td>\n",
       "      <td>Falling through the Net: Defining the Digital ...</td>\n",
       "      <td>2001</td>\n",
       "      <td>https://ocw.mit.edu/courses/21g-034-media-educ...</td>\n",
       "    </tr>\n",
       "  </tbody>\n",
       "</table>\n",
       "</div>"
      ],
      "text/plain": [
       "                                       author  \\\n",
       "0                                Aanestad, M.   \n",
       "1                                 Adeyemi, A.   \n",
       "2                      Annamalai, K.; Rao, S.   \n",
       "3                       Casas, C.; LaJoie, W.   \n",
       "4                  Compaine, B.; Weinramb, M.   \n",
       "5                      Larson, R.; Murray, M.   \n",
       "6        Phipps, K.; Sangudi, G.; Woolway, S.   \n",
       "7                                Prahalad, C.   \n",
       "8  Telecommunications, N.; Administration, I.   \n",
       "\n",
       "                                               title  year  \\\n",
       "0  Strategies for Development and Integration of ...  2005   \n",
       "1  A Study on the Use of Information Systems to P...  Marc   \n",
       "2  What Works: ITC’s e-Choupal and Profitable Rur...  2003   \n",
       "3                                 Voxiva. Case Study  2003   \n",
       "4  Universal Access to Online Services: An Examin...  2001   \n",
       "5  Distance Learning as a Tool for Poverty Reduct...  2005   \n",
       "6  What Works: Healthnet Uganda’s Evolution from ...  2003   \n",
       "7  The Fortune at the Bottom of the Pyramid: Erad...  2004   \n",
       "8  Falling through the Net: Defining the Digital ...  2001   \n",
       "\n",
       "                                      Link to Course  \n",
       "0  https://ocw.mit.edu/courses/21g-034-media-educ...  \n",
       "1  https://ocw.mit.edu/courses/21g-034-media-educ...  \n",
       "2  https://ocw.mit.edu/courses/21g-034-media-educ...  \n",
       "3  https://ocw.mit.edu/courses/21g-034-media-educ...  \n",
       "4  https://ocw.mit.edu/courses/21g-034-media-educ...  \n",
       "5  https://ocw.mit.edu/courses/21g-034-media-educ...  \n",
       "6  https://ocw.mit.edu/courses/21g-034-media-educ...  \n",
       "7  https://ocw.mit.edu/courses/21g-034-media-educ...  \n",
       "8  https://ocw.mit.edu/courses/21g-034-media-educ...  "
      ]
     },
     "execution_count": 743,
     "metadata": {},
     "output_type": "execute_result"
    }
   ],
   "source": [
    "search_readings('-Language', 'Book', 'All')[1]"
   ]
  },
  {
   "cell_type": "code",
   "execution_count": 25,
   "metadata": {},
   "outputs": [],
   "source": [
    "with open('topic_dropdown.txt', 'w') as f:\n",
    "    f.writelines([t[1:]+'\\n' for t, c in topic_counter.items() if t.startswith('-') and not t.startswith('--')])"
   ]
  },
  {
   "cell_type": "code",
   "execution_count": 745,
   "metadata": {},
   "outputs": [],
   "source": [
    "# average reading, opt, required\n",
    "# book / paper / unknown \n",
    "# year histogram \n",
    "# top authors "
   ]
  },
  {
   "cell_type": "code",
   "execution_count": 813,
   "metadata": {},
   "outputs": [
    {
     "data": {
      "text/plain": [
       "<Axes: xlabel='topics'>"
      ]
     },
     "execution_count": 813,
     "metadata": {},
     "output_type": "execute_result"
    },
    {
     "data": {
      "image/png": "[encoded data removed]",
      "text/plain": [
       "<Figure size 640x480 with 1 Axes>"
      ]
     },
     "metadata": {},
     "output_type": "display_data"
    }
   ],
   "source": [
    "viz_df = product_df[~product_df.topics.str.startswith('-', na=False)].groupby(['topics', 'category']).agg({'title': len, 'course': lambda x: len(set(x.to_list()))}).reset_index()\n",
    "viz_df['Average Reading per Course'] = round(viz_df['title'] / viz_df['course'], 1)\n",
    "viz_df[['topics', 'category', 'Average Reading per Course']].pivot(index='topics', columns='category', values='Average Reading per Course').plot(kind='bar')"
   ]
  },
  {
   "cell_type": "code",
   "execution_count": 779,
   "metadata": {},
   "outputs": [
    {
     "data": {
      "text/plain": [
       "topics                  category\n",
       "Business                Optional     243\n",
       "                        Required     558\n",
       "Energy                  Optional     134\n",
       "                        Required      67\n",
       "Engineering             Optional    1063\n",
       "                        Required    1175\n",
       "Fine Arts               Optional     233\n",
       "                        Required     232\n",
       "Health and Medicine     Optional      31\n",
       "                        Required     191\n",
       "Humanities              Optional      80\n",
       "                        Required     941\n",
       "Mathematics             Optional     276\n",
       "                        Required     278\n",
       "Science                 Optional     628\n",
       "                        Required    1039\n",
       "Social Science          Optional    1318\n",
       "                        Required    3620\n",
       "Society                 Optional     112\n",
       "                        Required     476\n",
       "Teaching and Education  Optional       6\n",
       "                        Required      24\n",
       "Name: title, dtype: int64"
      ]
     },
     "execution_count": 779,
     "metadata": {},
     "output_type": "execute_result"
    }
   ],
   "source": [
    "product_df[~product_df.topics.str.startswith('-', na=False)].groupby(['topics', 'category']).count()['title']"
   ]
  }
 ],
 "metadata": {
  "kernelspec": {
   "display_name": "base",
   "language": "python",
   "name": "python3"
  },
  "language_info": {
   "codemirror_mode": {
    "name": "ipython",
    "version": 3
   },
   "file_extension": ".py",
   "mimetype": "text/x-python",
   "name": "python",
   "nbconvert_exporter": "python",
   "pygments_lexer": "ipython3",
   "version": "3.10.6"
  },
  "orig_nbformat": 4
 },
 "nbformat": 4,
 "nbformat_minor": 2
}
