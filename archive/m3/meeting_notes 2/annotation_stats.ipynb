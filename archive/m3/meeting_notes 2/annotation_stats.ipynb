{
 "cells": [
  {
   "cell_type": "markdown",
   "metadata": {},
   "source": [
    "## Meeting with Garrett\n",
    "\n",
    "### (1) \"item\", \"category\", \"coder\"\n",
    "- `item == reading`, not `item == annotation`\n",
    "- `category == {required, optional}`\n",
    "- `coder == us` ** 2\n",
    "\n",
    "\n",
    "### (2) Annotation Agreement score `pi`\n",
    "![](pi.png)\n",
    "\n",
    "\n",
    "![](alpha.png)\n",
    "\n",
    "\n",
    "![](table.png)\n",
    "\n",
    "### (3) Specific to our case\n",
    "- One type of disagreement \n",
    "- Errors are annotator independent (as if two coders)\n",
    "- Readings are not unique - we need to find a way -- anystyle\n",
    "- Reading can appear in multiple courses - how should we resolve?\n",
    "\n",
    "![](A_e.png)\n",
    "\n",
    "\n",
    "![](A_0.png)\n"
   ]
  },
  {
   "cell_type": "markdown",
   "metadata": {},
   "source": [
    "![](two_annotators.png)"
   ]
  },
  {
   "cell_type": "markdown",
   "metadata": {},
   "source": [
    "### (4) Annotation Status\n",
    "- Currently, 210 matched courses, 230 unmatched courses\n",
    "- Cannot match milestone 2 expectation, but ...\n"
   ]
  },
  {
   "cell_type": "code",
   "execution_count": 93,
   "metadata": {},
   "outputs": [],
   "source": [
    "import pandas as pd\n",
    "import os"
   ]
  },
  {
   "cell_type": "code",
   "execution_count": 94,
   "metadata": {},
   "outputs": [],
   "source": [
    "PATH = './annotated/'"
   ]
  },
  {
   "cell_type": "code",
   "execution_count": 95,
   "metadata": {},
   "outputs": [],
   "source": [
    "annotations = []"
   ]
  },
  {
   "cell_type": "code",
   "execution_count": 96,
   "metadata": {},
   "outputs": [],
   "source": [
    "for folder in os.listdir(PATH):\n",
    "    if folder != '.DS_Store':\n",
    "        for file in os.listdir(PATH + folder):\n",
    "            if file.endswith('.tsv'):\n",
    "                with open(PATH + folder + '/' + file) as f:\n",
    "                    if len(f.readlines()) > 0:\n",
    "                        annotations.append(pd.read_csv(PATH + folder + '/' + file, delimiter='\\t', header=None))"
   ]
  },
  {
   "cell_type": "code",
   "execution_count": 97,
   "metadata": {},
   "outputs": [],
   "source": [
    "annotations_df = pd.concat(annotations, ignore_index=True)"
   ]
  },
  {
   "cell_type": "code",
   "execution_count": 98,
   "metadata": {},
   "outputs": [
    {
     "name": "stdout",
     "output_type": "stream",
     "text": [
      "Number of courses/2 : 278.0\n",
      "Number of readings/2 : 8969.5\n",
      "Average readings per course : 32.264388489208635\n"
     ]
    }
   ],
   "source": [
    "print(f\"Number of courses/2 : {len(annotations)/2}\")\n",
    "print(f\"Number of readings/2 : {len(annotations_df)/2}\")\n",
    "print(f\"Average readings per course : {len(annotations_df)/len(annotations)}\")"
   ]
  },
  {
   "cell_type": "code",
   "execution_count": 99,
   "metadata": {},
   "outputs": [],
   "source": [
    "annotations_df.columns = ['Status', 'Reading']"
   ]
  },
  {
   "cell_type": "code",
   "execution_count": 100,
   "metadata": {},
   "outputs": [],
   "source": [
    "annotations_df = annotations_df.dropna().reset_index(drop=True)"
   ]
  },
  {
   "cell_type": "code",
   "execution_count": 101,
   "metadata": {},
   "outputs": [
    {
     "data": {
      "text/html": [
       "<div>\n",
       "<style scoped>\n",
       "    .dataframe tbody tr th:only-of-type {\n",
       "        vertical-align: middle;\n",
       "    }\n",
       "\n",
       "    .dataframe tbody tr th {\n",
       "        vertical-align: top;\n",
       "    }\n",
       "\n",
       "    .dataframe thead th {\n",
       "        text-align: right;\n",
       "    }\n",
       "</style>\n",
       "<table border=\"1\" class=\"dataframe\">\n",
       "  <thead>\n",
       "    <tr style=\"text-align: right;\">\n",
       "      <th></th>\n",
       "      <th>Status</th>\n",
       "      <th>Reading</th>\n",
       "    </tr>\n",
       "  </thead>\n",
       "  <tbody>\n",
       "    <tr>\n",
       "      <th>0</th>\n",
       "      <td>Required</td>\n",
       "      <td>Dill, K., and S. Bromberg. Molecular Driving F...</td>\n",
       "    </tr>\n",
       "    <tr>\n",
       "      <th>1</th>\n",
       "      <td>Optional</td>\n",
       "      <td>Hill, T. L. An Introduction to Statistical The...</td>\n",
       "    </tr>\n",
       "    <tr>\n",
       "      <th>2</th>\n",
       "      <td>Optional</td>\n",
       "      <td>van Holde, K. E., W. C. Johnson, and P. S. Ho....</td>\n",
       "    </tr>\n",
       "    <tr>\n",
       "      <th>3</th>\n",
       "      <td>Optional</td>\n",
       "      <td>Eisenberg, D., and D. Crothers. Physical Chemi...</td>\n",
       "    </tr>\n",
       "    <tr>\n",
       "      <th>4</th>\n",
       "      <td>Optional</td>\n",
       "      <td>Kittel, C., and H. Kroemer. Thermal Physics. 2...</td>\n",
       "    </tr>\n",
       "    <tr>\n",
       "      <th>...</th>\n",
       "      <td>...</td>\n",
       "      <td>...</td>\n",
       "    </tr>\n",
       "    <tr>\n",
       "      <th>17908</th>\n",
       "      <td>Optional</td>\n",
       "      <td>Boville, B., and P. Gent. “The NCAR Climate Sy...</td>\n",
       "    </tr>\n",
       "    <tr>\n",
       "      <th>17909</th>\n",
       "      <td>Optional</td>\n",
       "      <td>Solomon, A., and P. H. Stone. “Equilibration i...</td>\n",
       "    </tr>\n",
       "    <tr>\n",
       "      <th>17910</th>\n",
       "      <td>Optional</td>\n",
       "      <td>Gleckler, P. “Surface energy balance errors in...</td>\n",
       "    </tr>\n",
       "    <tr>\n",
       "      <th>17911</th>\n",
       "      <td>Required</td>\n",
       "      <td>Pedlosky, Joseph. Waves in the Ocean and Atmos...</td>\n",
       "    </tr>\n",
       "    <tr>\n",
       "      <th>17912</th>\n",
       "      <td>Required</td>\n",
       "      <td>Gill, Adrian. Atmosphere-Ocean Dynamics. New Y...</td>\n",
       "    </tr>\n",
       "  </tbody>\n",
       "</table>\n",
       "<p>17913 rows × 2 columns</p>\n",
       "</div>"
      ],
      "text/plain": [
       "         Status                                            Reading\n",
       "0      Required  Dill, K., and S. Bromberg. Molecular Driving F...\n",
       "1      Optional  Hill, T. L. An Introduction to Statistical The...\n",
       "2      Optional  van Holde, K. E., W. C. Johnson, and P. S. Ho....\n",
       "3      Optional  Eisenberg, D., and D. Crothers. Physical Chemi...\n",
       "4      Optional  Kittel, C., and H. Kroemer. Thermal Physics. 2...\n",
       "...         ...                                                ...\n",
       "17908  Optional  Boville, B., and P. Gent. “The NCAR Climate Sy...\n",
       "17909  Optional  Solomon, A., and P. H. Stone. “Equilibration i...\n",
       "17910  Optional  Gleckler, P. “Surface energy balance errors in...\n",
       "17911  Required  Pedlosky, Joseph. Waves in the Ocean and Atmos...\n",
       "17912  Required  Gill, Adrian. Atmosphere-Ocean Dynamics. New Y...\n",
       "\n",
       "[17913 rows x 2 columns]"
      ]
     },
     "execution_count": 101,
     "metadata": {},
     "output_type": "execute_result"
    }
   ],
   "source": [
    "annotations_df"
   ]
  },
  {
   "cell_type": "code",
   "execution_count": 104,
   "metadata": {},
   "outputs": [
    {
     "data": {
      "text/plain": [
       "Required    12070\n",
       "Optional     5843\n",
       "Name: Status, dtype: int64"
      ]
     },
     "execution_count": 104,
     "metadata": {},
     "output_type": "execute_result"
    }
   ],
   "source": [
    "annotations_df.Status.value_counts()"
   ]
  },
  {
   "cell_type": "code",
   "execution_count": 103,
   "metadata": {},
   "outputs": [],
   "source": [
    "# annotations_df.to_csv('all_annotations.tsv', sep=\"\\t\")"
   ]
  },
  {
   "cell_type": "code",
   "execution_count": null,
   "metadata": {},
   "outputs": [],
   "source": []
  }
 ],
 "metadata": {
  "kernelspec": {
   "display_name": "Python 3 (ipykernel)",
   "language": "python",
   "name": "python3"
  },
  "language_info": {
   "codemirror_mode": {
    "name": "ipython",
    "version": 3
   },
   "file_extension": ".py",
   "mimetype": "text/x-python",
   "name": "python",
   "nbconvert_exporter": "python",
   "pygments_lexer": "ipython3",
   "version": "3.10.6"
  }
 },
 "nbformat": 4,
 "nbformat_minor": 4
}
